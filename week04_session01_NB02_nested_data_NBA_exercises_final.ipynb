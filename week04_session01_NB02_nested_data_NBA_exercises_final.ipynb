{
  "cells": [
    {
      "cell_type": "markdown",
      "metadata": {
        "id": "view-in-github",
        "colab_type": "text"
      },
      "source": [
        "<a href=\"https://colab.research.google.com/github/gt-cse-6040/skills_oh_week_04/blob/main/week04_session01_NB02_nested_data_NBA_exercises_final.ipynb\" target=\"_parent\"><img src=\"https://colab.research.google.com/assets/colab-badge.svg\" alt=\"Open In Colab\"/></a>"
      ]
    },
    {
      "cell_type": "markdown",
      "id": "c07401a0",
      "metadata": {
        "id": "c07401a0"
      },
      "source": [
        "_Main topics covered during today's session:_\n",
        "\n",
        "This NB:\n",
        "\n",
        "1. **NBA Data sample exercises**\n",
        "\n",
        "Next NB:\n",
        "\n",
        "1. **Higher order functions**\n",
        "2. **Slicing**\n",
        "3. **2 Ways of computing a solution (plus a bonus method for take home)**"
      ]
    },
    {
      "cell_type": "code",
      "source": [
        "!wget https://raw.githubusercontent.com/gt-cse-6040/skills_oh_week_04/main/nba_json.txt"
      ],
      "metadata": {
        "id": "hIBZiUyzZVls",
        "outputId": "f72685b1-efea-46b7-f5ee-fdf892dde864",
        "colab": {
          "base_uri": "https://localhost:8080/"
        }
      },
      "id": "hIBZiUyzZVls",
      "execution_count": 4,
      "outputs": [
        {
          "output_type": "stream",
          "name": "stdout",
          "text": [
            "--2023-01-22 16:52:49--  https://raw.githubusercontent.com/gt-cse-6040/skills_oh_week_04/main/nba_json.txt\n",
            "Resolving raw.githubusercontent.com (raw.githubusercontent.com)... 185.199.108.133, 185.199.109.133, 185.199.110.133, ...\n",
            "Connecting to raw.githubusercontent.com (raw.githubusercontent.com)|185.199.108.133|:443... connected.\n",
            "HTTP request sent, awaiting response... 200 OK\n",
            "Length: 8903 (8.7K) [text/plain]\n",
            "Saving to: ‘nba_json.txt’\n",
            "\n",
            "\rnba_json.txt          0%[                    ]       0  --.-KB/s               \rnba_json.txt        100%[===================>]   8.69K  --.-KB/s    in 0s      \n",
            "\n",
            "2023-01-22 16:52:49 (64.4 MB/s) - ‘nba_json.txt’ saved [8903/8903]\n",
            "\n"
          ]
        }
      ]
    },
    {
      "cell_type": "markdown",
      "id": "47502a76",
      "metadata": {
        "id": "47502a76"
      },
      "source": [
        "## Nested Data Structures: NBA Player Analysis -- Part 2\n",
        "\n",
        "### This notebook is an application of the NBA nested data notebook.\n",
        "\n",
        "#### We will be taking that data structure and performing some typical tasks that we do on dictionaries."
      ]
    },
    {
      "cell_type": "code",
      "execution_count": 2,
      "id": "c813cfad",
      "metadata": {
        "scrolled": true,
        "id": "c813cfad",
        "outputId": "bb2ca5d6-cb6a-4ee5-fa1b-c0f0b6eabb70",
        "colab": {
          "base_uri": "https://localhost:8080/",
          "height": 236
        }
      },
      "outputs": [
        {
          "output_type": "error",
          "ename": "FileNotFoundError",
          "evalue": "ignored",
          "traceback": [
            "\u001b[0;31m---------------------------------------------------------------------------\u001b[0m",
            "\u001b[0;31mFileNotFoundError\u001b[0m                         Traceback (most recent call last)",
            "\u001b[0;32m<ipython-input-2-c2f769923bda>\u001b[0m in \u001b[0;36m<module>\u001b[0;34m\u001b[0m\n\u001b[1;32m      4\u001b[0m \u001b[0;34m\u001b[0m\u001b[0m\n\u001b[1;32m      5\u001b[0m \u001b[0;31m# reading the data from the json file\u001b[0m\u001b[0;34m\u001b[0m\u001b[0;34m\u001b[0m\u001b[0;34m\u001b[0m\u001b[0m\n\u001b[0;32m----> 6\u001b[0;31m \u001b[0;32mwith\u001b[0m \u001b[0mopen\u001b[0m\u001b[0;34m(\u001b[0m\u001b[0;34m'nba_json.txt'\u001b[0m\u001b[0;34m)\u001b[0m \u001b[0;32mas\u001b[0m \u001b[0mf\u001b[0m\u001b[0;34m:\u001b[0m\u001b[0;34m\u001b[0m\u001b[0;34m\u001b[0m\u001b[0m\n\u001b[0m\u001b[1;32m      7\u001b[0m     \u001b[0mdata\u001b[0m \u001b[0;34m=\u001b[0m \u001b[0mf\u001b[0m\u001b[0;34m.\u001b[0m\u001b[0mreadlines\u001b[0m\u001b[0;34m(\u001b[0m\u001b[0;34m)\u001b[0m\u001b[0;34m\u001b[0m\u001b[0;34m\u001b[0m\u001b[0m\n\u001b[1;32m      8\u001b[0m \u001b[0;34m\u001b[0m\u001b[0m\n",
            "\u001b[0;31mFileNotFoundError\u001b[0m: [Errno 2] No such file or directory: 'nba_json.txt'"
          ]
        }
      ],
      "source": [
        "# loading the data, same as the previous NB\n",
        "# import the required package\n",
        "import ast\n",
        "\n",
        "# reading the data from the json file\n",
        "with open('nba_json.txt') as f:\n",
        "    data = f.readlines()\n",
        "    \n",
        "nested = [] # this is going to be our nested data structure\n",
        "#put each line(string) into a dictionary\n",
        "for line in data:\n",
        "    result = ast.literal_eval(line)\n",
        "#     print(result)\n",
        "    nested.append(result)"
      ]
    },
    {
      "cell_type": "markdown",
      "id": "6bb3da9d",
      "metadata": {
        "id": "6bb3da9d"
      },
      "source": [
        "### As we know from the previous NB, the key 'resultSets' contains the data the we want to manipulate.\n",
        "\n",
        "### Let's take a look at it again."
      ]
    },
    {
      "cell_type": "code",
      "execution_count": 3,
      "id": "99280f6a",
      "metadata": {
        "id": "99280f6a",
        "outputId": "57f13ea4-bacf-4acf-f1c0-d4a5632f27b5",
        "colab": {
          "base_uri": "https://localhost:8080/",
          "height": 201
        }
      },
      "outputs": [
        {
          "output_type": "error",
          "ename": "NameError",
          "evalue": "ignored",
          "traceback": [
            "\u001b[0;31m---------------------------------------------------------------------------\u001b[0m",
            "\u001b[0;31mNameError\u001b[0m                                 Traceback (most recent call last)",
            "\u001b[0;32m<ipython-input-3-83041d45d1d9>\u001b[0m in \u001b[0;36m<module>\u001b[0;34m\u001b[0m\n\u001b[0;32m----> 1\u001b[0;31m \u001b[0mprint\u001b[0m\u001b[0;34m(\u001b[0m\u001b[0mnested\u001b[0m\u001b[0;34m[\u001b[0m\u001b[0;36m0\u001b[0m\u001b[0;34m]\u001b[0m\u001b[0;34m[\u001b[0m\u001b[0;34m'resultSets'\u001b[0m\u001b[0;34m]\u001b[0m\u001b[0;34m)\u001b[0m\u001b[0;34m\u001b[0m\u001b[0;34m\u001b[0m\u001b[0m\n\u001b[0m\u001b[1;32m      2\u001b[0m \u001b[0mprint\u001b[0m\u001b[0;34m(\u001b[0m\u001b[0;34m'\\n'\u001b[0m\u001b[0;34m)\u001b[0m\u001b[0;34m\u001b[0m\u001b[0;34m\u001b[0m\u001b[0m\n\u001b[1;32m      3\u001b[0m \u001b[0mprint\u001b[0m\u001b[0;34m(\u001b[0m\u001b[0mnested\u001b[0m\u001b[0;34m[\u001b[0m\u001b[0;36m0\u001b[0m\u001b[0;34m]\u001b[0m\u001b[0;34m[\u001b[0m\u001b[0;34m'resultSets'\u001b[0m\u001b[0;34m]\u001b[0m\u001b[0;34m[\u001b[0m\u001b[0;36m0\u001b[0m\u001b[0;34m]\u001b[0m\u001b[0;34m.\u001b[0m\u001b[0mkeys\u001b[0m\u001b[0;34m(\u001b[0m\u001b[0;34m)\u001b[0m\u001b[0;34m)\u001b[0m\u001b[0;34m\u001b[0m\u001b[0;34m\u001b[0m\u001b[0m\n",
            "\u001b[0;31mNameError\u001b[0m: name 'nested' is not defined"
          ]
        }
      ],
      "source": [
        "print(nested[0]['resultSets'])\n",
        "print('\\n')\n",
        "print(nested[0]['resultSets'][0].keys())"
      ]
    },
    {
      "cell_type": "markdown",
      "id": "a65a6f50",
      "metadata": {
        "id": "a65a6f50"
      },
      "source": [
        "## Note that this is a list containing a single dictionary, with three keys.\n",
        "\n",
        "#### The key 'rowSet' contains the statistics that we are interested in, and the key 'headers' defines what each of the statisics is.\n",
        "\n",
        "#### Note that this first dict is for the player Al-Farouq Aminu, with the player_id 202329."
      ]
    },
    {
      "cell_type": "code",
      "execution_count": null,
      "id": "eb261382",
      "metadata": {
        "scrolled": true,
        "id": "eb261382"
      },
      "outputs": [],
      "source": [
        "print(nested[0]['resultSets'][0]['headers'])\n",
        "print('\\n')\n",
        "print(nested[0]['resultSets'][0]['rowSet'])\n",
        "print('\\n')\n",
        "print(nested[0]['resultSets'][0]['rowSet'][0])\n",
        "print('\\n')\n",
        "print(nested[0]['resultSets'][0]['rowSet'][1])"
      ]
    },
    {
      "cell_type": "markdown",
      "id": "082d3dfe",
      "metadata": {
        "id": "082d3dfe"
      },
      "source": [
        "## For simplicity, we are going to work with the nested[0]['resultSets'][0] list, which gives us a dictionary having three keys, as we saw above.\n",
        "\n",
        "### This will allow us to address the 'rowSet' dictionary key for its values."
      ]
    },
    {
      "cell_type": "markdown",
      "id": "88a46f3a",
      "metadata": {
        "id": "88a46f3a"
      },
      "source": [
        "## Exercise 0\n",
        "\n",
        "### Who are the players that a player guarded during the season?\n",
        "\n",
        "#### In other words, what are the OFF_PLAYER_NAME's for the DEF_PLAYER_NAME?\n",
        "\n",
        "### Requirement:  Output a list of the names of the players he guarded.\n"
      ]
    },
    {
      "cell_type": "code",
      "execution_count": null,
      "id": "96614075",
      "metadata": {
        "scrolled": true,
        "id": "96614075"
      },
      "outputs": [],
      "source": [
        "def players_guarded(var_stats, DEF_PLAYER_NAME):\n",
        "    \n",
        "    # create the list to return\n",
        "    ret_list = []\n",
        "#     print(var_stats)\n",
        "#     print('\\n')\n",
        "#     print(DEF_PLAYER_NAME)\n",
        "    \n",
        "    for k,v in var_stats.items():\n",
        "        if k == 'rowSet':\n",
        "            # remember that v is a list of lists\n",
        "#             print(v[0])\n",
        "            for index in v:  # loops over the higher level list\n",
        "#                 print(index[2])\n",
        "                # index is the list within the higher level list\n",
        "                ret_list.append(index[2])\n",
        "    \n",
        "    return ret_list\n",
        "\n",
        "# test code\n",
        "list0 = players_guarded(nested[0]['resultSets'][0], 'Al-Farouq Aminu')\n",
        "print(list0)\n",
        "list0 = players_guarded(nested[1]['resultSets'][0], 'Bam Adebayo')\n",
        "print(list0)\n",
        "list0 = players_guarded(nested[6]['resultSets'][0], 'Giannis Antetokounmpo')\n",
        "print(list0)"
      ]
    },
    {
      "cell_type": "markdown",
      "id": "4bcaadae",
      "metadata": {
        "id": "4bcaadae"
      },
      "source": [
        "## Exercise 1\n",
        "\n",
        "### Now let's make this a little more useful, asking the same question of who are the players guarded during the season.\n",
        "\n",
        "### Requirement:  Output a dictionary with the key being the defensive player name and the value being a list of the offensive players he guarded."
      ]
    },
    {
      "cell_type": "code",
      "execution_count": null,
      "id": "2fff139e",
      "metadata": {
        "id": "2fff139e"
      },
      "outputs": [],
      "source": [
        "def players_guarded_dict(var_stats, DEF_PLAYER_NAME):\n",
        "\n",
        "# Same as above************************\n",
        "    # create the list\n",
        "    guarded_list = []\n",
        "#     print(var_stats)\n",
        "    \n",
        "    # loop over the statistics dict\n",
        "    # this is the same as the above\n",
        "    for k,v in var_stats.items():\n",
        "        if k == 'rowSet':\n",
        "            # remember that v is a list of lists\n",
        "#             print(v[0])\n",
        "            for index in v:  # loops over the higher level list\n",
        "        #         print(index[2])\n",
        "                # index is the list within the higher level list\n",
        "                guarded_list.append(index[2])\n",
        "# *************************************\n",
        "\n",
        "# This is new************************** \n",
        "    # use default dict\n",
        "    from collections import defaultdict\n",
        "    ret_dict = defaultdict()\n",
        "    # now put it all into the default dictionary\n",
        "    ret_dict[DEF_PLAYER_NAME] = guarded_list\n",
        "    \n",
        "    # make the default dict a regular dict and return\n",
        "    return dict(ret_dict)\n",
        "# **************************************\n",
        "\n",
        "# test code\n",
        "list1 = players_guarded_dict(nested[0]['resultSets'][0], 'Al-Farouq Aminu')\n",
        "print(list1)\n",
        "list1 = players_guarded_dict(nested[1]['resultSets'][0], 'Bam Adebayo')\n",
        "print(list1)\n",
        "list1 = players_guarded_dict(nested[6]['resultSets'][0], 'Giannis Antetokounmpo')\n",
        "print(list1)"
      ]
    },
    {
      "cell_type": "markdown",
      "id": "7695e73e",
      "metadata": {
        "id": "7695e73e"
      },
      "source": [
        "## Exercise 2\n",
        "\n",
        "### Again, let's make this a little more useful, asking the same question of who are the players guarded during the season. We want to know how many points he allowed to each player during the season.\n",
        "\n",
        "#### Note that this data element is called 'PLAYER_PTS'. Which data element in the list is it?\n",
        "\n",
        "### Requirement:  Output a dictionary with the key being the defensive player name and the value being a list of tuples. The first item of each tuple is the name of the offensive players he guarded, and the second item of the tuple is the number points allowed."
      ]
    },
    {
      "cell_type": "code",
      "execution_count": null,
      "id": "b94054b1",
      "metadata": {
        "scrolled": false,
        "id": "b94054b1"
      },
      "outputs": [],
      "source": [
        "def players_guarded_minutes_dict(var_stats, DEF_PLAYER_NAME):\n",
        "    \n",
        "# Same as above***********************  \n",
        "    # create the list\n",
        "    guarded_list = []\n",
        "#     print(var_stats)\n",
        "# ************************************    \n",
        "\n",
        "\n",
        "# This is new*************************\n",
        "\n",
        "    # loop over the statistics dict\n",
        "    # this is the same as the above\n",
        "    for k,v in var_stats.items():\n",
        "        if k == 'rowSet':\n",
        "            # remember that v is a list of lists\n",
        "#             print(v[0])\n",
        "            for index in v:  # loops over the higher level list\n",
        "        #         print(index[2])\n",
        "                # index is the list within the higher level list\n",
        "            # This is the new part********************\n",
        "                guarded_list.append((index[2],index[8]))\n",
        "            # ****************************************\n",
        "\n",
        "# ************************************\n",
        "\n",
        "# Same as above************************\n",
        "    # use default dict\n",
        "    from collections import defaultdict\n",
        "    ret_dict = defaultdict()\n",
        "    # now put it all into the default dictionary\n",
        "    ret_dict[DEF_PLAYER_NAME] = guarded_list\n",
        "    \n",
        "    # make the default dict a regular dict and return\n",
        "    return dict(ret_dict)\n",
        "# *************************************\n",
        "\n",
        "# test code\n",
        "list2 = players_guarded_minutes_dict(nested[0]['resultSets'][0], 'Al-Farouq Aminu')\n",
        "print(list2)\n",
        "list2 = players_guarded_minutes_dict(nested[1]['resultSets'][0], 'Bam Adebayo')\n",
        "print(list2)\n",
        "list2 = players_guarded_minutes_dict(nested[6]['resultSets'][0], 'Giannis Antetokounmpo')\n",
        "print(list2)"
      ]
    },
    {
      "cell_type": "markdown",
      "id": "93865d15",
      "metadata": {
        "id": "93865d15"
      },
      "source": [
        "## Exercise 3\n",
        "\n",
        "### Again, let's make this a little more useful, asking the same question of who are the players guarded during the season. We want to know how many pointed he allowed to each player during the season, and who scored the least to most..\n",
        "\n",
        "### Requirement:  Output a dictionary with the key being the defensive player name and the value being a list of tuples. The first item of each tuple is the name of the offensive players he guarded, and the second item of the tuple is the number of points allowed. The list of tuples should be sorted by the number of points allowed, from most to least. If the points are the same, then sort by the name in alphabetical order."
      ]
    },
    {
      "cell_type": "code",
      "execution_count": null,
      "id": "88d1dcd8",
      "metadata": {
        "id": "88d1dcd8"
      },
      "outputs": [],
      "source": [
        "def players_guarded_minutes_dict_sorted(var_stats, DEF_PLAYER_NAME):\n",
        "    \n",
        "# Same as above***********************  \n",
        "    # create the list\n",
        "    guarded_list = []\n",
        "#     print(var_stats)\n",
        "\n",
        "    # loop over the statistics dict\n",
        "    # this is the same as the above\n",
        "    for k,v in var_stats.items():\n",
        "        if k == 'rowSet':\n",
        "            # remember that v is a list of lists\n",
        "#             print(v[0])\n",
        "            for index in v:  # loops over the higher level list\n",
        "                guarded_list.append((index[2],index[8]))\n",
        "\n",
        "# ************************************\n",
        "\n",
        "# Sort the list of tuples, this is new*******\n",
        "# https://www.geeksforgeeks.org/python-mutiple-column-sort-in-tuples/\n",
        "# https://www.geeksforgeeks.org/python-program-to-sort-a-list-of-tuples-by-second-item/\n",
        "    guarded_list = sorted(guarded_list, key = lambda x: (-x[1], x[0]))\n",
        "\n",
        "\n",
        "# *******************************************\n",
        "\n",
        "# Same as above************************\n",
        "    # use default dict\n",
        "    from collections import defaultdict\n",
        "    ret_dict = defaultdict()\n",
        "    # now put it all into the default dictionary\n",
        "    ret_dict[DEF_PLAYER_NAME] = guarded_list\n",
        "    \n",
        "    # make the default dict a regular dict and return\n",
        "    return dict(ret_dict)\n",
        "# *************************************\n",
        "\n",
        "# test code\n",
        "list2 = players_guarded_minutes_dict_sorted(nested[0]['resultSets'][0], 'Al-Farouq Aminu')\n",
        "print(list2)\n",
        "list2 = players_guarded_minutes_dict_sorted(nested[1]['resultSets'][0], 'Bam Adebayo')\n",
        "print(list2)\n",
        "list2 = players_guarded_minutes_dict_sorted(nested[6]['resultSets'][0], 'Giannis Antetokounmpo')\n",
        "print(list2)"
      ]
    },
    {
      "cell_type": "code",
      "execution_count": null,
      "id": "e1ba3d5e",
      "metadata": {
        "id": "e1ba3d5e"
      },
      "outputs": [],
      "source": []
    }
  ],
  "metadata": {
    "kernelspec": {
      "display_name": "Python 3 (ipykernel)",
      "language": "python",
      "name": "python3"
    },
    "language_info": {
      "codemirror_mode": {
        "name": "ipython",
        "version": 3
      },
      "file_extension": ".py",
      "mimetype": "text/x-python",
      "name": "python",
      "nbconvert_exporter": "python",
      "pygments_lexer": "ipython3",
      "version": "3.9.13"
    },
    "colab": {
      "provenance": [],
      "include_colab_link": true
    }
  },
  "nbformat": 4,
  "nbformat_minor": 5
}